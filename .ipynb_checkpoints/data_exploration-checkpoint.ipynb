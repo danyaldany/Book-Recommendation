{
 "cells": [
  {
   "cell_type": "code",
   "execution_count": 111,
   "id": "7b4ad131-3850-4fab-9d7f-9ac55354eec2",
   "metadata": {},
   "outputs": [],
   "source": [
    "import pandas as pd"
   ]
  },
  {
   "cell_type": "code",
   "execution_count": 112,
   "id": "a8c7eefa-4d50-47a7-87bf-cd6745a64f63",
   "metadata": {},
   "outputs": [
    {
     "name": "stdout",
     "output_type": "stream",
     "text": [
      "Path to dataset files: C:\\Users\\MCS\\.cache\\kagglehub\\datasets\\dylanjcastillo\\7k-books-with-metadata\\versions\\3\n"
     ]
    }
   ],
   "source": [
    "import kagglehub\n",
    "\n",
    "# Download latest version\n",
    "path = kagglehub.dataset_download(\"dylanjcastillo/7k-books-with-metadata\")\n",
    "\n",
    "print(\"Path to dataset files:\", path)"
   ]
  },
  {
   "cell_type": "code",
   "execution_count": 113,
   "id": "c50710bb-17e1-409c-a8a8-41ac126465e7",
   "metadata": {},
   "outputs": [
    {
     "data": {
      "text/html": [
       "<div>\n",
       "<style scoped>\n",
       "    .dataframe tbody tr th:only-of-type {\n",
       "        vertical-align: middle;\n",
       "    }\n",
       "\n",
       "    .dataframe tbody tr th {\n",
       "        vertical-align: top;\n",
       "    }\n",
       "\n",
       "    .dataframe thead th {\n",
       "        text-align: right;\n",
       "    }\n",
       "</style>\n",
       "<table border=\"1\" class=\"dataframe\">\n",
       "  <thead>\n",
       "    <tr style=\"text-align: right;\">\n",
       "      <th></th>\n",
       "      <th>isbn13</th>\n",
       "      <th>isbn10</th>\n",
       "      <th>title</th>\n",
       "      <th>subtitle</th>\n",
       "      <th>authors</th>\n",
       "      <th>categories</th>\n",
       "      <th>thumbnail</th>\n",
       "      <th>description</th>\n",
       "      <th>published_year</th>\n",
       "      <th>average_rating</th>\n",
       "      <th>num_pages</th>\n",
       "      <th>ratings_count</th>\n",
       "    </tr>\n",
       "  </thead>\n",
       "  <tbody>\n",
       "    <tr>\n",
       "      <th>0</th>\n",
       "      <td>9780002005883</td>\n",
       "      <td>0002005883</td>\n",
       "      <td>Gilead</td>\n",
       "      <td>NaN</td>\n",
       "      <td>Marilynne Robinson</td>\n",
       "      <td>Fiction</td>\n",
       "      <td>http://books.google.com/books/content?id=KQZCP...</td>\n",
       "      <td>A NOVEL THAT READERS and critics have been eag...</td>\n",
       "      <td>2004.0</td>\n",
       "      <td>3.85</td>\n",
       "      <td>247.0</td>\n",
       "      <td>361.0</td>\n",
       "    </tr>\n",
       "    <tr>\n",
       "      <th>1</th>\n",
       "      <td>9780002261982</td>\n",
       "      <td>0002261987</td>\n",
       "      <td>Spider's Web</td>\n",
       "      <td>A Novel</td>\n",
       "      <td>Charles Osborne;Agatha Christie</td>\n",
       "      <td>Detective and mystery stories</td>\n",
       "      <td>http://books.google.com/books/content?id=gA5GP...</td>\n",
       "      <td>A new 'Christie for Christmas' -- a full-lengt...</td>\n",
       "      <td>2000.0</td>\n",
       "      <td>3.83</td>\n",
       "      <td>241.0</td>\n",
       "      <td>5164.0</td>\n",
       "    </tr>\n",
       "    <tr>\n",
       "      <th>2</th>\n",
       "      <td>9780006163831</td>\n",
       "      <td>0006163831</td>\n",
       "      <td>The One Tree</td>\n",
       "      <td>NaN</td>\n",
       "      <td>Stephen R. Donaldson</td>\n",
       "      <td>American fiction</td>\n",
       "      <td>http://books.google.com/books/content?id=OmQaw...</td>\n",
       "      <td>Volume Two of Stephen Donaldson's acclaimed se...</td>\n",
       "      <td>1982.0</td>\n",
       "      <td>3.97</td>\n",
       "      <td>479.0</td>\n",
       "      <td>172.0</td>\n",
       "    </tr>\n",
       "  </tbody>\n",
       "</table>\n",
       "</div>"
      ],
      "text/plain": [
       "          isbn13      isbn10         title subtitle  \\\n",
       "0  9780002005883  0002005883        Gilead      NaN   \n",
       "1  9780002261982  0002261987  Spider's Web  A Novel   \n",
       "2  9780006163831  0006163831  The One Tree      NaN   \n",
       "\n",
       "                           authors                     categories  \\\n",
       "0               Marilynne Robinson                        Fiction   \n",
       "1  Charles Osborne;Agatha Christie  Detective and mystery stories   \n",
       "2             Stephen R. Donaldson               American fiction   \n",
       "\n",
       "                                           thumbnail  \\\n",
       "0  http://books.google.com/books/content?id=KQZCP...   \n",
       "1  http://books.google.com/books/content?id=gA5GP...   \n",
       "2  http://books.google.com/books/content?id=OmQaw...   \n",
       "\n",
       "                                         description  published_year  \\\n",
       "0  A NOVEL THAT READERS and critics have been eag...          2004.0   \n",
       "1  A new 'Christie for Christmas' -- a full-lengt...          2000.0   \n",
       "2  Volume Two of Stephen Donaldson's acclaimed se...          1982.0   \n",
       "\n",
       "   average_rating  num_pages  ratings_count  \n",
       "0            3.85      247.0          361.0  \n",
       "1            3.83      241.0         5164.0  \n",
       "2            3.97      479.0          172.0  "
      ]
     },
     "execution_count": 113,
     "metadata": {},
     "output_type": "execute_result"
    }
   ],
   "source": [
    "#we load the csv file\n",
    "data = pd.read_csv(f\"{path}/books.csv\")\n",
    "data.head(3) #print the first 3 rows"
   ]
  },
  {
   "cell_type": "markdown",
   "id": "65221c81-6a34-4822-9aef-6d9989783bfc",
   "metadata": {},
   "source": [
    "## Prepare the Data"
   ]
  },
  {
   "cell_type": "code",
   "execution_count": 114,
   "id": "8933ee5b-8435-4ae4-8187-6725a07c20b7",
   "metadata": {},
   "outputs": [
    {
     "data": {
      "text/plain": [
       "isbn13               0\n",
       "isbn10               0\n",
       "title                0\n",
       "subtitle          4429\n",
       "authors             72\n",
       "categories          99\n",
       "thumbnail          329\n",
       "description        262\n",
       "published_year       6\n",
       "average_rating      43\n",
       "num_pages           43\n",
       "ratings_count       43\n",
       "dtype: int64"
      ]
     },
     "execution_count": 114,
     "metadata": {},
     "output_type": "execute_result"
    }
   ],
   "source": [
    "data.isnull().sum() # show none data at any columns"
   ]
  },
  {
   "cell_type": "code",
   "execution_count": 115,
   "id": "cd729416-468b-4b39-98cf-55c7b3aaf893",
   "metadata": {},
   "outputs": [
    {
     "name": "stdout",
     "output_type": "stream",
     "text": [
      "(6810,)\n",
      "4429\n"
     ]
    }
   ],
   "source": [
    "print(data.subtitle.shape) #shape of subtitle columns which show 6810 (rows)\n",
    "print(data.subtitle.isnull().sum()) # show null at this columns"
   ]
  },
  {
   "cell_type": "code",
   "execution_count": 116,
   "id": "35d3fb1d-d5ab-4497-aa9d-3d771336cae9",
   "metadata": {},
   "outputs": [],
   "source": [
    "import matplotlib.pyplot as plt\n",
    "import seaborn as sn"
   ]
  },
  {
   "cell_type": "code",
   "execution_count": 117,
   "id": "76cbcfa3-8d37-4807-a0dc-183c6af02612",
   "metadata": {},
   "outputs": [
    {
     "data": {
      "image/png": "[encoded data removed]",
      "text/plain": [
       "<Figure size 640x480 with 2 Axes>"
      ]
     },
     "metadata": {},
     "output_type": "display_data"
    }
   ],
   "source": [
    "ax = plt.axes()\n",
    "sn.heatmap(data.isna().transpose(), ax = ax, cmap='viridis', cbar='False')\n",
    "# transpose:    Swaps rows and columns.\n",
    "plt.xlabel(\"Columns\")\n",
    "plt.ylabel(\"Missing values\")\n",
    "plt.show()\n",
    "\n",
    "#below graph show that the subtitle have high missing values"
   ]
  },
  {
   "cell_type": "code",
   "execution_count": 118,
   "id": "07ff47b7-6522-4b64-951c-222eae61b360",
   "metadata": {},
   "outputs": [
    {
     "data": {
      "text/plain": [
       "Index([ 453,  454,  455,  456,  457,  458,  459,  460,  461,  462,  528,  884,\n",
       "       1779, 1882, 2491, 2500, 2536, 2549, 2865, 3575, 3576, 3655, 3932, 3935,\n",
       "       3962, 4375, 5671, 5672, 5673, 5674, 5675, 5676, 5677, 5958, 5961, 5962,\n",
       "       5963, 5964, 5965, 5966, 5967, 6256, 6798],\n",
       "      dtype='int64')"
      ]
     },
     "execution_count": 118,
     "metadata": {},
     "output_type": "execute_result"
    }
   ],
   "source": [
    "data[data.average_rating.isna()].index #print the index of missing values in av rating"
   ]
  },
  {
   "cell_type": "code",
   "execution_count": 119,
   "id": "04485012-baab-4cd2-b350-e5cabcad577d",
   "metadata": {},
   "outputs": [
    {
     "data": {
      "text/plain": [
       "Index(['isbn13', 'isbn10', 'title', 'subtitle', 'authors', 'categories',\n",
       "       'thumbnail', 'description', 'published_year', 'average_rating',\n",
       "       'num_pages', 'ratings_count'],\n",
       "      dtype='object')"
      ]
     },
     "execution_count": 119,
     "metadata": {},
     "output_type": "execute_result"
    }
   ],
   "source": [
    "data.columns"
   ]
  },
  {
   "cell_type": "code",
   "execution_count": 120,
   "id": "5316b56e-c31a-471a-97bd-34669d6b8e6e",
   "metadata": {},
   "outputs": [
    {
     "data": {
      "text/plain": [
       "missing_discription\n",
       "0    6548\n",
       "1     262\n",
       "Name: count, dtype: int64"
      ]
     },
     "execution_count": 120,
     "metadata": {},
     "output_type": "execute_result"
    }
   ],
   "source": [
    "import numpy as np\n",
    "\n",
    "data['missing_discription'] = np.where(data['description'].isna(),1,0)\n",
    "data['missing_discription'].value_counts() #this add 1 if there is any missing values"
   ]
  },
  {
   "cell_type": "code",
   "execution_count": 121,
   "id": "c740af52-9a5d-4e25-916b-f78769504202",
   "metadata": {},
   "outputs": [
    {
     "data": {
      "image/png": "[encoded data removed]",
      "text/plain": [
       "<Figure size 800x600 with 2 Axes>"
      ]
     },
     "metadata": {},
     "output_type": "display_data"
    }
   ],
   "source": [
    "data['age_book'] = 2025 - data.published_year\n",
    "\n",
    "columns_of_interest = ['average_rating', 'missing_discription', 'age_book', 'num_pages']\n",
    "\n",
    "#find correaltion\n",
    "correlation_matrix = data[columns_of_interest].corr(method = 'spearman')\n",
    "\n",
    "sn.set_theme(style='white')\n",
    "plt.figure(figsize=(8,6))\n",
    "heatmap = sn.heatmap(correlation_matrix, annot=True, fmt='.2f',cmap='coolwarm',\n",
    "                     cbar_kws = {'label':'spearman correlated'})\n",
    "heatmap.set_title(\"heatmap correlation\")\n",
    "plt.show()"
   ]
  },
  {
   "cell_type": "code",
   "execution_count": 122,
   "id": "e8863415-c871-4f10-91ac-f707d4bb47ca",
   "metadata": {},
   "outputs": [
    {
     "data": {
      "text/html": [
       "<div>\n",
       "<style scoped>\n",
       "    .dataframe tbody tr th:only-of-type {\n",
       "        vertical-align: middle;\n",
       "    }\n",
       "\n",
       "    .dataframe tbody tr th {\n",
       "        vertical-align: top;\n",
       "    }\n",
       "\n",
       "    .dataframe thead th {\n",
       "        text-align: right;\n",
       "    }\n",
       "</style>\n",
       "<table border=\"1\" class=\"dataframe\">\n",
       "  <thead>\n",
       "    <tr style=\"text-align: right;\">\n",
       "      <th></th>\n",
       "      <th>isbn13</th>\n",
       "      <th>isbn10</th>\n",
       "      <th>title</th>\n",
       "      <th>subtitle</th>\n",
       "      <th>authors</th>\n",
       "      <th>categories</th>\n",
       "      <th>thumbnail</th>\n",
       "      <th>description</th>\n",
       "      <th>published_year</th>\n",
       "      <th>average_rating</th>\n",
       "      <th>num_pages</th>\n",
       "      <th>ratings_count</th>\n",
       "      <th>missing_discription</th>\n",
       "      <th>age_book</th>\n",
       "    </tr>\n",
       "  </thead>\n",
       "  <tbody>\n",
       "    <tr>\n",
       "      <th>0</th>\n",
       "      <td>9780002005883</td>\n",
       "      <td>0002005883</td>\n",
       "      <td>Gilead</td>\n",
       "      <td>NaN</td>\n",
       "      <td>Marilynne Robinson</td>\n",
       "      <td>Fiction</td>\n",
       "      <td>http://books.google.com/books/content?id=KQZCP...</td>\n",
       "      <td>A NOVEL THAT READERS and critics have been eag...</td>\n",
       "      <td>2004.0</td>\n",
       "      <td>3.85</td>\n",
       "      <td>247.0</td>\n",
       "      <td>361.0</td>\n",
       "      <td>0</td>\n",
       "      <td>21.0</td>\n",
       "    </tr>\n",
       "    <tr>\n",
       "      <th>1</th>\n",
       "      <td>9780002261982</td>\n",
       "      <td>0002261987</td>\n",
       "      <td>Spider's Web</td>\n",
       "      <td>A Novel</td>\n",
       "      <td>Charles Osborne;Agatha Christie</td>\n",
       "      <td>Detective and mystery stories</td>\n",
       "      <td>http://books.google.com/books/content?id=gA5GP...</td>\n",
       "      <td>A new 'Christie for Christmas' -- a full-lengt...</td>\n",
       "      <td>2000.0</td>\n",
       "      <td>3.83</td>\n",
       "      <td>241.0</td>\n",
       "      <td>5164.0</td>\n",
       "      <td>0</td>\n",
       "      <td>25.0</td>\n",
       "    </tr>\n",
       "    <tr>\n",
       "      <th>2</th>\n",
       "      <td>9780006163831</td>\n",
       "      <td>0006163831</td>\n",
       "      <td>The One Tree</td>\n",
       "      <td>NaN</td>\n",
       "      <td>Stephen R. Donaldson</td>\n",
       "      <td>American fiction</td>\n",
       "      <td>http://books.google.com/books/content?id=OmQaw...</td>\n",
       "      <td>Volume Two of Stephen Donaldson's acclaimed se...</td>\n",
       "      <td>1982.0</td>\n",
       "      <td>3.97</td>\n",
       "      <td>479.0</td>\n",
       "      <td>172.0</td>\n",
       "      <td>0</td>\n",
       "      <td>43.0</td>\n",
       "    </tr>\n",
       "    <tr>\n",
       "      <th>3</th>\n",
       "      <td>9780006178736</td>\n",
       "      <td>0006178731</td>\n",
       "      <td>Rage of angels</td>\n",
       "      <td>NaN</td>\n",
       "      <td>Sidney Sheldon</td>\n",
       "      <td>Fiction</td>\n",
       "      <td>http://books.google.com/books/content?id=FKo2T...</td>\n",
       "      <td>A memorable, mesmerizing heroine Jennifer -- b...</td>\n",
       "      <td>1993.0</td>\n",
       "      <td>3.93</td>\n",
       "      <td>512.0</td>\n",
       "      <td>29532.0</td>\n",
       "      <td>0</td>\n",
       "      <td>32.0</td>\n",
       "    </tr>\n",
       "    <tr>\n",
       "      <th>4</th>\n",
       "      <td>9780006280897</td>\n",
       "      <td>0006280897</td>\n",
       "      <td>The Four Loves</td>\n",
       "      <td>NaN</td>\n",
       "      <td>Clive Staples Lewis</td>\n",
       "      <td>Christian life</td>\n",
       "      <td>http://books.google.com/books/content?id=XhQ5X...</td>\n",
       "      <td>Lewis' work on the nature of love divides love...</td>\n",
       "      <td>2002.0</td>\n",
       "      <td>4.15</td>\n",
       "      <td>170.0</td>\n",
       "      <td>33684.0</td>\n",
       "      <td>0</td>\n",
       "      <td>23.0</td>\n",
       "    </tr>\n",
       "  </tbody>\n",
       "</table>\n",
       "</div>"
      ],
      "text/plain": [
       "          isbn13      isbn10           title subtitle  \\\n",
       "0  9780002005883  0002005883          Gilead      NaN   \n",
       "1  9780002261982  0002261987    Spider's Web  A Novel   \n",
       "2  9780006163831  0006163831    The One Tree      NaN   \n",
       "3  9780006178736  0006178731  Rage of angels      NaN   \n",
       "4  9780006280897  0006280897  The Four Loves      NaN   \n",
       "\n",
       "                           authors                     categories  \\\n",
       "0               Marilynne Robinson                        Fiction   \n",
       "1  Charles Osborne;Agatha Christie  Detective and mystery stories   \n",
       "2             Stephen R. Donaldson               American fiction   \n",
       "3                   Sidney Sheldon                        Fiction   \n",
       "4              Clive Staples Lewis                 Christian life   \n",
       "\n",
       "                                           thumbnail  \\\n",
       "0  http://books.google.com/books/content?id=KQZCP...   \n",
       "1  http://books.google.com/books/content?id=gA5GP...   \n",
       "2  http://books.google.com/books/content?id=OmQaw...   \n",
       "3  http://books.google.com/books/content?id=FKo2T...   \n",
       "4  http://books.google.com/books/content?id=XhQ5X...   \n",
       "\n",
       "                                         description  published_year  \\\n",
       "0  A NOVEL THAT READERS and critics have been eag...          2004.0   \n",
       "1  A new 'Christie for Christmas' -- a full-lengt...          2000.0   \n",
       "2  Volume Two of Stephen Donaldson's acclaimed se...          1982.0   \n",
       "3  A memorable, mesmerizing heroine Jennifer -- b...          1993.0   \n",
       "4  Lewis' work on the nature of love divides love...          2002.0   \n",
       "\n",
       "   average_rating  num_pages  ratings_count  missing_discription  age_book  \n",
       "0            3.85      247.0          361.0                    0      21.0  \n",
       "1            3.83      241.0         5164.0                    0      25.0  \n",
       "2            3.97      479.0          172.0                    0      43.0  \n",
       "3            3.93      512.0        29532.0                    0      32.0  \n",
       "4            4.15      170.0        33684.0                    0      23.0  "
      ]
     },
     "execution_count": 122,
     "metadata": {},
     "output_type": "execute_result"
    }
   ],
   "source": [
    "# jaha per b null(columns_of_interestA) hoga wahi rows and columns return karega ~ use karka is ka opposite hogaega\n",
    "data_missing = data[~(data['average_rating'].isnull()) &\n",
    "                    ~(data['description'].isnull()) &\n",
    "                    ~(data['num_pages'].isnull()) &\n",
    "                    ~(data['published_year'].isnull())\n",
    "    \n",
    "    ]\n",
    "data_missing.head(5)"
   ]
  },
  {
   "cell_type": "code",
   "execution_count": 123,
   "id": "20b8db60-55ae-4e01-9515-464a454b05e3",
   "metadata": {},
   "outputs": [
    {
     "data": {
      "text/html": [
       "<div>\n",
       "<style scoped>\n",
       "    .dataframe tbody tr th:only-of-type {\n",
       "        vertical-align: middle;\n",
       "    }\n",
       "\n",
       "    .dataframe tbody tr th {\n",
       "        vertical-align: top;\n",
       "    }\n",
       "\n",
       "    .dataframe thead th {\n",
       "        text-align: right;\n",
       "    }\n",
       "</style>\n",
       "<table border=\"1\" class=\"dataframe\">\n",
       "  <thead>\n",
       "    <tr style=\"text-align: right;\">\n",
       "      <th></th>\n",
       "      <th>categories</th>\n",
       "      <th>count</th>\n",
       "    </tr>\n",
       "  </thead>\n",
       "  <tbody>\n",
       "    <tr>\n",
       "      <th>0</th>\n",
       "      <td>Fiction</td>\n",
       "      <td>2523</td>\n",
       "    </tr>\n",
       "    <tr>\n",
       "      <th>1</th>\n",
       "      <td>Juvenile Fiction</td>\n",
       "      <td>534</td>\n",
       "    </tr>\n",
       "    <tr>\n",
       "      <th>2</th>\n",
       "      <td>Biography &amp; Autobiography</td>\n",
       "      <td>391</td>\n",
       "    </tr>\n",
       "    <tr>\n",
       "      <th>3</th>\n",
       "      <td>History</td>\n",
       "      <td>258</td>\n",
       "    </tr>\n",
       "    <tr>\n",
       "      <th>4</th>\n",
       "      <td>Literary Criticism</td>\n",
       "      <td>164</td>\n",
       "    </tr>\n",
       "    <tr>\n",
       "      <th>...</th>\n",
       "      <td>...</td>\n",
       "      <td>...</td>\n",
       "    </tr>\n",
       "    <tr>\n",
       "      <th>519</th>\n",
       "      <td>Aeronautics</td>\n",
       "      <td>1</td>\n",
       "    </tr>\n",
       "    <tr>\n",
       "      <th>518</th>\n",
       "      <td>Childbirth</td>\n",
       "      <td>1</td>\n",
       "    </tr>\n",
       "    <tr>\n",
       "      <th>517</th>\n",
       "      <td>Consumer behavior</td>\n",
       "      <td>1</td>\n",
       "    </tr>\n",
       "    <tr>\n",
       "      <th>516</th>\n",
       "      <td>Seduction</td>\n",
       "      <td>1</td>\n",
       "    </tr>\n",
       "    <tr>\n",
       "      <th>515</th>\n",
       "      <td>Conan (Fictitious character)</td>\n",
       "      <td>1</td>\n",
       "    </tr>\n",
       "  </tbody>\n",
       "</table>\n",
       "<p>531 rows × 2 columns</p>\n",
       "</div>"
      ],
      "text/plain": [
       "                       categories  count\n",
       "0                         Fiction   2523\n",
       "1                Juvenile Fiction    534\n",
       "2       Biography & Autobiography    391\n",
       "3                         History    258\n",
       "4              Literary Criticism    164\n",
       "..                            ...    ...\n",
       "519                   Aeronautics      1\n",
       "518                    Childbirth      1\n",
       "517             Consumer behavior      1\n",
       "516                     Seduction      1\n",
       "515  Conan (Fictitious character)      1\n",
       "\n",
       "[531 rows x 2 columns]"
      ]
     },
     "execution_count": 123,
     "metadata": {},
     "output_type": "execute_result"
    }
   ],
   "source": [
    "data_missing.categories.value_counts().reset_index().sort_values(\"count\",ascending=False)"
   ]
  },
  {
   "cell_type": "code",
   "execution_count": 124,
   "id": "019057af-fb09-42ab-9ee1-51f15758348d",
   "metadata": {},
   "outputs": [
    {
     "data": {
      "text/html": [
       "<div>\n",
       "<style scoped>\n",
       "    .dataframe tbody tr th:only-of-type {\n",
       "        vertical-align: middle;\n",
       "    }\n",
       "\n",
       "    .dataframe tbody tr th {\n",
       "        vertical-align: top;\n",
       "    }\n",
       "\n",
       "    .dataframe thead th {\n",
       "        text-align: right;\n",
       "    }\n",
       "</style>\n",
       "<table border=\"1\" class=\"dataframe\">\n",
       "  <thead>\n",
       "    <tr style=\"text-align: right;\">\n",
       "      <th></th>\n",
       "      <th>isbn13</th>\n",
       "      <th>isbn10</th>\n",
       "      <th>title</th>\n",
       "      <th>subtitle</th>\n",
       "      <th>authors</th>\n",
       "      <th>categories</th>\n",
       "      <th>thumbnail</th>\n",
       "      <th>description</th>\n",
       "      <th>published_year</th>\n",
       "      <th>average_rating</th>\n",
       "      <th>num_pages</th>\n",
       "      <th>ratings_count</th>\n",
       "      <th>missing_discription</th>\n",
       "      <th>age_book</th>\n",
       "    </tr>\n",
       "  </thead>\n",
       "  <tbody>\n",
       "    <tr>\n",
       "      <th>0</th>\n",
       "      <td>9780002005883</td>\n",
       "      <td>0002005883</td>\n",
       "      <td>Gilead</td>\n",
       "      <td>NaN</td>\n",
       "      <td>Marilynne Robinson</td>\n",
       "      <td>Fiction</td>\n",
       "      <td>http://books.google.com/books/content?id=KQZCP...</td>\n",
       "      <td>A NOVEL THAT READERS and critics have been eag...</td>\n",
       "      <td>2004.0</td>\n",
       "      <td>3.85</td>\n",
       "      <td>247.0</td>\n",
       "      <td>361.0</td>\n",
       "      <td>0</td>\n",
       "      <td>21.0</td>\n",
       "    </tr>\n",
       "    <tr>\n",
       "      <th>1</th>\n",
       "      <td>9780002261982</td>\n",
       "      <td>0002261987</td>\n",
       "      <td>Spider's Web</td>\n",
       "      <td>A Novel</td>\n",
       "      <td>Charles Osborne;Agatha Christie</td>\n",
       "      <td>Detective and mystery stories</td>\n",
       "      <td>http://books.google.com/books/content?id=gA5GP...</td>\n",
       "      <td>A new 'Christie for Christmas' -- a full-lengt...</td>\n",
       "      <td>2000.0</td>\n",
       "      <td>3.83</td>\n",
       "      <td>241.0</td>\n",
       "      <td>5164.0</td>\n",
       "      <td>0</td>\n",
       "      <td>25.0</td>\n",
       "    </tr>\n",
       "  </tbody>\n",
       "</table>\n",
       "</div>"
      ],
      "text/plain": [
       "          isbn13      isbn10         title subtitle  \\\n",
       "0  9780002005883  0002005883        Gilead      NaN   \n",
       "1  9780002261982  0002261987  Spider's Web  A Novel   \n",
       "\n",
       "                           authors                     categories  \\\n",
       "0               Marilynne Robinson                        Fiction   \n",
       "1  Charles Osborne;Agatha Christie  Detective and mystery stories   \n",
       "\n",
       "                                           thumbnail  \\\n",
       "0  http://books.google.com/books/content?id=KQZCP...   \n",
       "1  http://books.google.com/books/content?id=gA5GP...   \n",
       "\n",
       "                                         description  published_year  \\\n",
       "0  A NOVEL THAT READERS and critics have been eag...          2004.0   \n",
       "1  A new 'Christie for Christmas' -- a full-lengt...          2000.0   \n",
       "\n",
       "   average_rating  num_pages  ratings_count  missing_discription  age_book  \n",
       "0            3.85      247.0          361.0                    0      21.0  \n",
       "1            3.83      241.0         5164.0                    0      25.0  "
      ]
     },
     "execution_count": 124,
     "metadata": {},
     "output_type": "execute_result"
    }
   ],
   "source": [
    "data_missing.head(2)"
   ]
  },
  {
   "cell_type": "code",
   "execution_count": 125,
   "id": "9934afbd-9b21-4746-ac54-cb4dce7157ed",
   "metadata": {},
   "outputs": [
    {
     "name": "stderr",
     "output_type": "stream",
     "text": [
      "C:\\Users\\MCS\\AppData\\Local\\Temp\\ipykernel_16368\\3408574048.py:1: SettingWithCopyWarning: \n",
      "A value is trying to be set on a copy of a slice from a DataFrame.\n",
      "Try using .loc[row_indexer,col_indexer] = value instead\n",
      "\n",
      "See the caveats in the documentation: https://pandas.pydata.org/pandas-docs/stable/user_guide/indexing.html#returning-a-view-versus-a-copy\n",
      "  data_missing['word_count_description'] = data_missing.description.str.split().str.len()\n"
     ]
    },
    {
     "data": {
      "text/html": [
       "<div>\n",
       "<style scoped>\n",
       "    .dataframe tbody tr th:only-of-type {\n",
       "        vertical-align: middle;\n",
       "    }\n",
       "\n",
       "    .dataframe tbody tr th {\n",
       "        vertical-align: top;\n",
       "    }\n",
       "\n",
       "    .dataframe thead th {\n",
       "        text-align: right;\n",
       "    }\n",
       "</style>\n",
       "<table border=\"1\" class=\"dataframe\">\n",
       "  <thead>\n",
       "    <tr style=\"text-align: right;\">\n",
       "      <th></th>\n",
       "      <th>isbn13</th>\n",
       "      <th>isbn10</th>\n",
       "      <th>title</th>\n",
       "      <th>subtitle</th>\n",
       "      <th>authors</th>\n",
       "      <th>categories</th>\n",
       "      <th>thumbnail</th>\n",
       "      <th>description</th>\n",
       "      <th>published_year</th>\n",
       "      <th>average_rating</th>\n",
       "      <th>num_pages</th>\n",
       "      <th>ratings_count</th>\n",
       "      <th>missing_discription</th>\n",
       "      <th>age_book</th>\n",
       "      <th>word_count_description</th>\n",
       "    </tr>\n",
       "  </thead>\n",
       "  <tbody>\n",
       "    <tr>\n",
       "      <th>3894</th>\n",
       "      <td>9780671876999</td>\n",
       "      <td>0671876996</td>\n",
       "      <td>Forever After</td>\n",
       "      <td>NaN</td>\n",
       "      <td>Roger Zelazny</td>\n",
       "      <td>Fiction</td>\n",
       "      <td>http://books.google.com/books/content?id=H9edP...</td>\n",
       "      <td>The heroes of a millennium-long battle against...</td>\n",
       "      <td>1995.0</td>\n",
       "      <td>3.71</td>\n",
       "      <td>291.0</td>\n",
       "      <td>232.0</td>\n",
       "      <td>0</td>\n",
       "      <td>30.0</td>\n",
       "      <td>36</td>\n",
       "    </tr>\n",
       "    <tr>\n",
       "      <th>4609</th>\n",
       "      <td>9780756402976</td>\n",
       "      <td>0756402972</td>\n",
       "      <td>Stone of Farewell</td>\n",
       "      <td>NaN</td>\n",
       "      <td>Tad Williams</td>\n",
       "      <td>Fiction</td>\n",
       "      <td>http://books.google.com/books/content?id=BVZVP...</td>\n",
       "      <td>Battered remnants of the human army flee the e...</td>\n",
       "      <td>2005.0</td>\n",
       "      <td>4.10</td>\n",
       "      <td>608.0</td>\n",
       "      <td>35850.0</td>\n",
       "      <td>0</td>\n",
       "      <td>20.0</td>\n",
       "      <td>33</td>\n",
       "    </tr>\n",
       "  </tbody>\n",
       "</table>\n",
       "</div>"
      ],
      "text/plain": [
       "             isbn13      isbn10              title subtitle        authors  \\\n",
       "3894  9780671876999  0671876996      Forever After      NaN  Roger Zelazny   \n",
       "4609  9780756402976  0756402972  Stone of Farewell      NaN   Tad Williams   \n",
       "\n",
       "     categories                                          thumbnail  \\\n",
       "3894    Fiction  http://books.google.com/books/content?id=H9edP...   \n",
       "4609    Fiction  http://books.google.com/books/content?id=BVZVP...   \n",
       "\n",
       "                                            description  published_year  \\\n",
       "3894  The heroes of a millennium-long battle against...          1995.0   \n",
       "4609  Battered remnants of the human army flee the e...          2005.0   \n",
       "\n",
       "      average_rating  num_pages  ratings_count  missing_discription  age_book  \\\n",
       "3894            3.71      291.0          232.0                    0      30.0   \n",
       "4609            4.10      608.0        35850.0                    0      20.0   \n",
       "\n",
       "      word_count_description  \n",
       "3894                      36  \n",
       "4609                      33  "
      ]
     },
     "execution_count": 125,
     "metadata": {},
     "output_type": "execute_result"
    }
   ],
   "source": [
    "data_missing['word_count_description'] = data_missing.description.str.split().str.len()\n",
    "\n",
    "#this will add the columns at the end at data_missing which contain lenght of each description \n",
    "#we do this b/c to remove the minimum lenght of description b/c they dont have meaning \n",
    "data_missing.sample(2)"
   ]
  },
  {
   "cell_type": "code",
   "execution_count": 126,
   "id": "c4f16bc1-48b1-4d4a-8056-0c3c710a9b5b",
   "metadata": {},
   "outputs": [
    {
     "data": {
      "text/plain": [
       "<Axes: xlabel='word_count_description'>"
      ]
     },
     "execution_count": 126,
     "metadata": {},
     "output_type": "execute_result"
    },
    {
     "data": {
      "image/png": "[encoded data removed]",
      "text/plain": [
       "<Figure size 640x480 with 1 Axes>"
      ]
     },
     "metadata": {},
     "output_type": "display_data"
    }
   ],
   "source": [
    "data_missing['word_count_description'].value_counts().sort_index().plot()\n",
    "\n",
    "# data_missing['word_count_description'] is likely just a single column (a Series), \n",
    "# not a DataFrame, so it doesn't have a \"count\" column.\n"
   ]
  },
  {
   "cell_type": "code",
   "execution_count": 127,
   "id": "37f778fc-b65f-46fd-883f-6432a63c2ce7",
   "metadata": {},
   "outputs": [
    {
     "data": {
      "text/plain": [
       "6                                           Donation.\n",
       "11                                     Fantasy-roman.\n",
       "748              Includes bibliographical references.\n",
       "770                             Bound For Oregon (PB)\n",
       "775                                No Marketing Blurb\n",
       "812                                No Marketing Blurb\n",
       "857                          First published in 1813.\n",
       "944                         Edited by Maurice Hindle.\n",
       "953                        DEFOE/ROBINSON CRUSOE (BC)\n",
       "954                             Edited by John Carey.\n",
       "962                         ALLEN/GETTING THINGS DONE\n",
       "1054                            GILBERT/EAT PRAY LOVE\n",
       "1056    \"Graham Greene centennial, 1904-2004\"--Cover.\n",
       "1060                   STEINBECK/GRAPES OF WRATH (BC)\n",
       "1346                                   Fantasy-roman.\n",
       "1546                                      Winter 2003\n",
       "1610                                      Winter 1999\n",
       "1813                             National bestseller.\n",
       "1981                                         Romance.\n",
       "2089                               Oprah's Book Club.\n",
       "2372                       KANDEL/IN SEARCH OF MEMORY\n",
       "2946                           FICTION-ROMANCE/GOTHIC\n",
       "3064                               No Marketing Blurb\n",
       "3364                                   Fantasy-roman.\n",
       "3425                               A novel of Israel.\n",
       "3435                                 Science fiction.\n",
       "3611                                Cast ages: adult.\n",
       "3641                           A Classic Robot novel.\n",
       "3645                           Science fiction-roman.\n",
       "3857         Comprehensive Teacher's Guide available.\n",
       "3959                                   Ketubot Part I\n",
       "4262                             Issued in container.\n",
       "4898                                   Fantasy roman.\n",
       "5015                                             See:\n",
       "5090                                                ?\n",
       "5135                              (Autobiographical).\n",
       "5161                          A classic rediscovered.\n",
       "5243                                                .\n",
       "5245                                                .\n",
       "5332                               No Marketing Blurb\n",
       "5493                         Motion, Sound, and Heat.\n",
       "5505                                    Eventyrroman.\n",
       "5599                                             #48.\n",
       "5652                 see www.BloodMoonProductions.com\n",
       "6066                               No Marketing Blurb\n",
       "6144                             Dominion 3rd Edition\n",
       "6180                                  Revised edition\n",
       "6368                                        undefined\n",
       "6402                           Meaning of life novel.\n",
       "6499                                           Roman.\n",
       "6557                                 Kriminalromaner.\n",
       "6571                   Translated by Anthony Burgess.\n",
       "6695                               No Marketing Blurb\n",
       "6721                                          Horror.\n",
       "6794                             源氏物語54帖、「宮田切り絵」の真骨頂。\n",
       "Name: description, dtype: object"
      ]
     },
     "execution_count": 127,
     "metadata": {},
     "output_type": "execute_result"
    }
   ],
   "source": [
    "data_missing.loc[data_missing['word_count_description'].between(1,4), 'description']\n",
    "# the result show that it does not give correct meaning so dont use 1 to 4"
   ]
  },
  {
   "cell_type": "code",
   "execution_count": 128,
   "id": "6a153215-19e9-47e7-92bf-68a4b64d94af",
   "metadata": {},
   "outputs": [
    {
     "data": {
      "text/plain": [
       "10      One of Sidney Sheldon's most popular and bests...\n",
       "32      Tells the story of three generations of Chines...\n",
       "36      A magical and fantastic collection of early st...\n",
       "57      A young drifter finds more than he bargained f...\n",
       "68      A new 'The Doors of Perception' for the 21st c...\n",
       "                              ...                        \n",
       "6767    Everything from the fingerprints of the gods t...\n",
       "6782    Displays one of America's leading physicist's ...\n",
       "6783    Basics Illustration 01: Thinking Visually expl...\n",
       "6789    Provides an introduction to the American artis...\n",
       "6809    This is a jubilant and rewarding collection of...\n",
       "Name: description, Length: 947, dtype: object"
      ]
     },
     "execution_count": 128,
     "metadata": {},
     "output_type": "execute_result"
    }
   ],
   "source": [
    "data_missing.loc[data_missing['word_count_description'].between(15,24), 'description']\n",
    "#it does not give any meaning "
   ]
  },
  {
   "cell_type": "code",
   "execution_count": 129,
   "id": "23321ea7-cde3-4124-ab5f-5e30383533c5",
   "metadata": {},
   "outputs": [
    {
     "data": {
      "text/plain": [
       "9       Kate Blackwell is an enigma and one of the mos...\n",
       "14      Available in the U.S. for the first time, this...\n",
       "20      It is 1937, and Charles Ashworth, a Canon to t...\n",
       "21      Reissue of the author's most famous and well-l...\n",
       "46      No one believes a little girl when she insists...\n",
       "                              ...                        \n",
       "6760    Joel, an English teacher, has never really lik...\n",
       "6766    Discusses the historical and intellectual back...\n",
       "6775    Presents nearly one thousand recipes--from app...\n",
       "6779    Edited by the creator and executive producer o...\n",
       "6799    This book is the story of a young girl obsesse...\n",
       "Name: description, Length: 1229, dtype: object"
      ]
     },
     "execution_count": 129,
     "metadata": {},
     "output_type": "execute_result"
    }
   ],
   "source": [
    "data_missing.loc[data_missing['word_count_description'].between(25,34), 'description']\n",
    "#give proper meaning of the sentence "
   ]
  },
  {
   "cell_type": "code",
   "execution_count": 130,
   "id": "7304b70c-8f71-4fea-af37-c165943efcba",
   "metadata": {},
   "outputs": [
    {
     "name": "stdout",
     "output_type": "stream",
     "text": [
      "(5197, 15)\n"
     ]
    },
    {
     "data": {
      "text/html": [
       "<div>\n",
       "<style scoped>\n",
       "    .dataframe tbody tr th:only-of-type {\n",
       "        vertical-align: middle;\n",
       "    }\n",
       "\n",
       "    .dataframe tbody tr th {\n",
       "        vertical-align: top;\n",
       "    }\n",
       "\n",
       "    .dataframe thead th {\n",
       "        text-align: right;\n",
       "    }\n",
       "</style>\n",
       "<table border=\"1\" class=\"dataframe\">\n",
       "  <thead>\n",
       "    <tr style=\"text-align: right;\">\n",
       "      <th></th>\n",
       "      <th>isbn13</th>\n",
       "      <th>isbn10</th>\n",
       "      <th>title</th>\n",
       "      <th>subtitle</th>\n",
       "      <th>authors</th>\n",
       "      <th>categories</th>\n",
       "      <th>thumbnail</th>\n",
       "      <th>description</th>\n",
       "      <th>published_year</th>\n",
       "      <th>average_rating</th>\n",
       "      <th>num_pages</th>\n",
       "      <th>ratings_count</th>\n",
       "      <th>missing_discription</th>\n",
       "      <th>age_book</th>\n",
       "      <th>word_count_description</th>\n",
       "    </tr>\n",
       "  </thead>\n",
       "  <tbody>\n",
       "    <tr>\n",
       "      <th>6576</th>\n",
       "      <td>9781857024074</td>\n",
       "      <td>1857024079</td>\n",
       "      <td>A Thousand Orange Trees</td>\n",
       "      <td>NaN</td>\n",
       "      <td>Kathryn Harrison</td>\n",
       "      <td>Historical fiction</td>\n",
       "      <td>http://books.google.com/books/content?id=TRMwG...</td>\n",
       "      <td>Set in 17th-century Spain, this is a twisting ...</td>\n",
       "      <td>1995.0</td>\n",
       "      <td>3.61</td>\n",
       "      <td>317.0</td>\n",
       "      <td>78.0</td>\n",
       "      <td>0</td>\n",
       "      <td>30.0</td>\n",
       "      <td>30</td>\n",
       "    </tr>\n",
       "    <tr>\n",
       "      <th>479</th>\n",
       "      <td>9780064403368</td>\n",
       "      <td>006440336X</td>\n",
       "      <td>Child of the Owl</td>\n",
       "      <td>Golden Mountain Chronicles: 1965</td>\n",
       "      <td>Laurence Yep</td>\n",
       "      <td>Juvenile Fiction</td>\n",
       "      <td>http://books.google.com/books/content?id=IvP2b...</td>\n",
       "      <td>Twelve-year-old Casey is waiting for the day t...</td>\n",
       "      <td>1990.0</td>\n",
       "      <td>3.60</td>\n",
       "      <td>288.0</td>\n",
       "      <td>423.0</td>\n",
       "      <td>0</td>\n",
       "      <td>35.0</td>\n",
       "      <td>114</td>\n",
       "    </tr>\n",
       "  </tbody>\n",
       "</table>\n",
       "</div>"
      ],
      "text/plain": [
       "             isbn13      isbn10                    title  \\\n",
       "6576  9781857024074  1857024079  A Thousand Orange Trees   \n",
       "479   9780064403368  006440336X         Child of the Owl   \n",
       "\n",
       "                              subtitle           authors          categories  \\\n",
       "6576                               NaN  Kathryn Harrison  Historical fiction   \n",
       "479   Golden Mountain Chronicles: 1965      Laurence Yep    Juvenile Fiction   \n",
       "\n",
       "                                              thumbnail  \\\n",
       "6576  http://books.google.com/books/content?id=TRMwG...   \n",
       "479   http://books.google.com/books/content?id=IvP2b...   \n",
       "\n",
       "                                            description  published_year  \\\n",
       "6576  Set in 17th-century Spain, this is a twisting ...          1995.0   \n",
       "479   Twelve-year-old Casey is waiting for the day t...          1990.0   \n",
       "\n",
       "      average_rating  num_pages  ratings_count  missing_discription  age_book  \\\n",
       "6576            3.61      317.0           78.0                    0      30.0   \n",
       "479             3.60      288.0          423.0                    0      35.0   \n",
       "\n",
       "      word_count_description  \n",
       "6576                      30  \n",
       "479                      114  "
      ]
     },
     "execution_count": 130,
     "metadata": {},
     "output_type": "execute_result"
    }
   ],
   "source": [
    "# so we take a description that has is length is greater than 25 or eequal\n",
    "\n",
    "data_greater_25_words = data_missing[data_missing['word_count_description'] >= 25]\n",
    "print(data_greater_25_words.shape)\n",
    "data_greater_25_words.sample(2)"
   ]
  },
  {
   "cell_type": "code",
   "execution_count": 131,
   "id": "a68fdc7c-fcd4-4736-ae15-812a54cf1827",
   "metadata": {},
   "outputs": [
    {
     "name": "stderr",
     "output_type": "stream",
     "text": [
      "C:\\Users\\MCS\\AppData\\Local\\Temp\\ipykernel_16368\\1157981404.py:1: SettingWithCopyWarning: \n",
      "A value is trying to be set on a copy of a slice from a DataFrame.\n",
      "Try using .loc[row_indexer,col_indexer] = value instead\n",
      "\n",
      "See the caveats in the documentation: https://pandas.pydata.org/pandas-docs/stable/user_guide/indexing.html#returning-a-view-versus-a-copy\n",
      "  data_greater_25_words['title_subtitle'] = np.where(data_greater_25_words['subtitle'].isna(), #agar null ho\n"
     ]
    }
   ],
   "source": [
    "data_greater_25_words['title_subtitle'] = np.where(data_greater_25_words['subtitle'].isna(), #agar null ho \n",
    "                                                  data_greater_25_words['title'], # to title ajaega\n",
    "                                                  data_greater_25_words[['title', 'subtitle']].astype(str).agg(\": \".join, axis=1)) #agar null na ho to both\n",
    "\n",
    "#matlab jaha subtitle nahi ha waha per title ajae ga or jaha ha waha per title and subtitle dono ajaega we combine both"
   ]
  },
  {
   "cell_type": "code",
   "execution_count": 132,
   "id": "48d989dc-532a-45c1-8d9a-d31900a829a6",
   "metadata": {},
   "outputs": [
    {
     "data": {
      "text/html": [
       "<div>\n",
       "<style scoped>\n",
       "    .dataframe tbody tr th:only-of-type {\n",
       "        vertical-align: middle;\n",
       "    }\n",
       "\n",
       "    .dataframe tbody tr th {\n",
       "        vertical-align: top;\n",
       "    }\n",
       "\n",
       "    .dataframe thead th {\n",
       "        text-align: right;\n",
       "    }\n",
       "</style>\n",
       "<table border=\"1\" class=\"dataframe\">\n",
       "  <thead>\n",
       "    <tr style=\"text-align: right;\">\n",
       "      <th></th>\n",
       "      <th>index</th>\n",
       "      <th>title_subtitle</th>\n",
       "    </tr>\n",
       "  </thead>\n",
       "  <tbody>\n",
       "    <tr>\n",
       "      <th>0</th>\n",
       "      <td>0</td>\n",
       "      <td>Gilead</td>\n",
       "    </tr>\n",
       "    <tr>\n",
       "      <th>1</th>\n",
       "      <td>1</td>\n",
       "      <td>Spider's Web: A Novel</td>\n",
       "    </tr>\n",
       "    <tr>\n",
       "      <th>2</th>\n",
       "      <td>3</td>\n",
       "      <td>Rage of angels</td>\n",
       "    </tr>\n",
       "    <tr>\n",
       "      <th>3</th>\n",
       "      <td>4</td>\n",
       "      <td>The Four Loves</td>\n",
       "    </tr>\n",
       "    <tr>\n",
       "      <th>4</th>\n",
       "      <td>5</td>\n",
       "      <td>The Problem of Pain</td>\n",
       "    </tr>\n",
       "    <tr>\n",
       "      <th>...</th>\n",
       "      <td>...</td>\n",
       "      <td>...</td>\n",
       "    </tr>\n",
       "    <tr>\n",
       "      <th>5192</th>\n",
       "      <td>6802</td>\n",
       "      <td>Mistaken Identity</td>\n",
       "    </tr>\n",
       "    <tr>\n",
       "      <th>5193</th>\n",
       "      <td>6803</td>\n",
       "      <td>Journey to the East</td>\n",
       "    </tr>\n",
       "    <tr>\n",
       "      <th>5194</th>\n",
       "      <td>6804</td>\n",
       "      <td>The Monk Who Sold His Ferrari: A Fable About F...</td>\n",
       "    </tr>\n",
       "    <tr>\n",
       "      <th>5195</th>\n",
       "      <td>6805</td>\n",
       "      <td>I Am that: Talks with Sri Nisargadatta Maharaj</td>\n",
       "    </tr>\n",
       "    <tr>\n",
       "      <th>5196</th>\n",
       "      <td>6808</td>\n",
       "      <td>The Berlin Phenomenology</td>\n",
       "    </tr>\n",
       "  </tbody>\n",
       "</table>\n",
       "<p>5197 rows × 2 columns</p>\n",
       "</div>"
      ],
      "text/plain": [
       "      index                                     title_subtitle\n",
       "0         0                                             Gilead\n",
       "1         1                              Spider's Web: A Novel\n",
       "2         3                                     Rage of angels\n",
       "3         4                                     The Four Loves\n",
       "4         5                                The Problem of Pain\n",
       "...     ...                                                ...\n",
       "5192   6802                                  Mistaken Identity\n",
       "5193   6803                                Journey to the East\n",
       "5194   6804  The Monk Who Sold His Ferrari: A Fable About F...\n",
       "5195   6805     I Am that: Talks with Sri Nisargadatta Maharaj\n",
       "5196   6808                           The Berlin Phenomenology\n",
       "\n",
       "[5197 rows x 2 columns]"
      ]
     },
     "execution_count": 132,
     "metadata": {},
     "output_type": "execute_result"
    }
   ],
   "source": [
    "data_greater_25_words.title_subtitle.reset_index()"
   ]
  },
  {
   "cell_type": "code",
   "execution_count": 133,
   "id": "8dcfe608-c52c-484b-a369-1fe3ca1bdc73",
   "metadata": {},
   "outputs": [
    {
     "name": "stderr",
     "output_type": "stream",
     "text": [
      "C:\\Users\\MCS\\AppData\\Local\\Temp\\ipykernel_16368\\320897604.py:3: SettingWithCopyWarning: \n",
      "A value is trying to be set on a copy of a slice from a DataFrame.\n",
      "Try using .loc[row_indexer,col_indexer] = value instead\n",
      "\n",
      "See the caveats in the documentation: https://pandas.pydata.org/pandas-docs/stable/user_guide/indexing.html#returning-a-view-versus-a-copy\n",
      "  data_greater_25_words['tagged_description'] = data_greater_25_words[['isbn13', 'description']].astype(str).agg(\": \".join, axis=1)\n"
     ]
    }
   ],
   "source": [
    "#now combine tag(isb13) and description\n",
    "\n",
    "data_greater_25_words['tagged_description'] = data_greater_25_words[['isbn13', 'description']].astype(str).agg(\": \".join, axis=1)\n",
    "#jab new columns ban jata ha to wo float hoga is liya is  str convert kia "
   ]
  },
  {
   "cell_type": "code",
   "execution_count": 134,
   "id": "28c3899a-6e8e-4a80-a572-a1f97b2e3ddd",
   "metadata": {},
   "outputs": [
    {
     "data": {
      "text/html": [
       "<div>\n",
       "<style scoped>\n",
       "    .dataframe tbody tr th:only-of-type {\n",
       "        vertical-align: middle;\n",
       "    }\n",
       "\n",
       "    .dataframe tbody tr th {\n",
       "        vertical-align: top;\n",
       "    }\n",
       "\n",
       "    .dataframe thead th {\n",
       "        text-align: right;\n",
       "    }\n",
       "</style>\n",
       "<table border=\"1\" class=\"dataframe\">\n",
       "  <thead>\n",
       "    <tr style=\"text-align: right;\">\n",
       "      <th></th>\n",
       "      <th>index</th>\n",
       "      <th>tagged_description</th>\n",
       "    </tr>\n",
       "  </thead>\n",
       "  <tbody>\n",
       "    <tr>\n",
       "      <th>0</th>\n",
       "      <td>5301</td>\n",
       "      <td>9780822218739: THE STORIES: Welcome to the dar...</td>\n",
       "    </tr>\n",
       "  </tbody>\n",
       "</table>\n",
       "</div>"
      ],
      "text/plain": [
       "   index                                 tagged_description\n",
       "0   5301  9780822218739: THE STORIES: Welcome to the dar..."
      ]
     },
     "execution_count": 134,
     "metadata": {},
     "output_type": "execute_result"
    }
   ],
   "source": [
    "data_greater_25_words.tagged_description.sample(1).reset_index()"
   ]
  },
  {
   "cell_type": "code",
   "execution_count": 135,
   "id": "2c9cec79-cd5d-427e-9324-68836988d565",
   "metadata": {
    "scrolled": true
   },
   "outputs": [],
   "source": [
    "data_greater_25_words.drop(\n",
    "    ['subtitle', 'missing_discription', 'age_book', 'word_count_description'],\n",
    "    axis=1,\n",
    ").to_csv(\"books_cleaned.csv\", index=False)\n"
   ]
  },
  {
   "cell_type": "code",
   "execution_count": 136,
   "id": "49d7d56c-2631-461f-8c5b-f9ffad707b46",
   "metadata": {},
   "outputs": [
    {
     "data": {
      "text/plain": [
       "Index(['isbn13', 'isbn10', 'title', 'subtitle', 'authors', 'categories',\n",
       "       'thumbnail', 'description', 'published_year', 'average_rating',\n",
       "       'num_pages', 'ratings_count', 'missing_discription', 'age_book',\n",
       "       'word_count_description', 'title_subtitle', 'tagged_description'],\n",
       "      dtype='object')"
      ]
     },
     "execution_count": 136,
     "metadata": {},
     "output_type": "execute_result"
    }
   ],
   "source": [
    "data_greater_25_words.columns"
   ]
  }
 ],
 "metadata": {
  "kernelspec": {
   "display_name": "Python 3 (ipykernel)",
   "language": "python",
   "name": "python3"
  },
  "language_info": {
   "codemirror_mode": {
    "name": "ipython",
    "version": 3
   },
   "file_extension": ".py",
   "mimetype": "text/x-python",
   "name": "python",
   "nbconvert_exporter": "python",
   "pygments_lexer": "ipython3",
   "version": "3.10.0"
  }
 },
 "nbformat": 4,
 "nbformat_minor": 5
}
