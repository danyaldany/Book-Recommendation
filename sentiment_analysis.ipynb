{
 "cells": [
  {
   "cell_type": "code",
   "execution_count": 2,
   "id": "36a811d4-7af2-41ff-a434-57a030d39271",
   "metadata": {},
   "outputs": [],
   "source": [
    "import pandas as pd\n",
    "\n",
    "books = pd.read_csv('books_with_categories.csv')"
   ]
  },
  {
   "cell_type": "code",
   "execution_count": 6,
   "id": "64996871-bfe2-4a63-94ce-3d83bd0ac920",
   "metadata": {},
   "outputs": [
    {
     "name": "stderr",
     "output_type": "stream",
     "text": [
      "Device set to use cpu\n"
     ]
    },
    {
     "data": {
      "text/plain": [
       "[[{'label': 'joy', 'score': 0.9771687984466553},\n",
       "  {'label': 'surprise', 'score': 0.008528691716492176},\n",
       "  {'label': 'neutral', 'score': 0.005764589179307222},\n",
       "  {'label': 'anger', 'score': 0.004419791977852583},\n",
       "  {'label': 'sadness', 'score': 0.002092393347993493},\n",
       "  {'label': 'disgust', 'score': 0.001611992483958602},\n",
       "  {'label': 'fear', 'score': 0.0004138525982853025}]]"
      ]
     },
     "execution_count": 6,
     "metadata": {},
     "output_type": "execute_result"
    },
    {
     "name": "stderr",
     "output_type": "stream",
     "text": [
      "Xet Storage is enabled for this repo, but the 'hf_xet' package is not installed. Falling back to regular HTTP download. For better performance, install the package with: `pip install huggingface_hub[hf_xet]` or `pip install hf_xet`\n"
     ]
    }
   ],
   "source": [
    "from transformers import pipeline\n",
    "classifier = pipeline(\"text-classification\",\n",
    "                      model=\"j-hartmann/emotion-english-distilroberta-base\", \n",
    "                      return_all_scores=True,\n",
    "                     top_k = None,\n",
    "                     device='cpu')\n",
    "classifier(\"I love this!\")"
   ]
  },
  {
   "cell_type": "code",
   "execution_count": 9,
   "id": "e277228c-1fd3-42a3-bc13-30048c6b289c",
   "metadata": {},
   "outputs": [
    {
     "data": {
      "text/plain": [
       "0       A NOVEL THAT READERS and critics have been eag...\n",
       "1       A new 'Christie for Christmas' -- a full-lengt...\n",
       "2       A memorable, mesmerizing heroine Jennifer -- b...\n",
       "3       Lewis' work on the nature of love divides love...\n",
       "4       \"In The Problem of Pain, C.S. Lewis, one of th...\n",
       "                              ...                        \n",
       "5192    On A Train Journey Home To North India After L...\n",
       "5193    This book tells the tale of a man who goes on ...\n",
       "5194    Wisdom to Create a Life of Passion, Purpose, a...\n",
       "5195    This collection of the timeless teachings of o...\n",
       "5196    Since the three volume edition ofHegel's Philo...\n",
       "Name: description, Length: 5197, dtype: object"
      ]
     },
     "execution_count": 9,
     "metadata": {},
     "output_type": "execute_result"
    }
   ],
   "source": [
    "books.description"
   ]
  },
  {
   "cell_type": "code",
   "execution_count": 17,
   "id": "10c9f358-6966-461a-9664-37969a622295",
   "metadata": {},
   "outputs": [
    {
     "data": {
      "text/plain": [
       "['A NOVEL THAT READERS and critics have been eagerly anticipating for over a decade, Gilead is an astonishingly imagined story of remarkable lives',\n",
       " ' John Ames is a preacher, the son of a preacher and the grandson (both maternal and paternal) of preachers',\n",
       " ' It’s 1956 in Gilead, Iowa, towards the end of the Reverend Ames’s life, and he is absorbed in recording his family’s story, a legacy for the young son he will never see grow up',\n",
       " ' Haunted by his grandfather’s presence, John tells of the rift between his grandfather and his father: the elder, an angry visionary who fought for the abolitionist cause, and his son, an ardent pacifist',\n",
       " ' He is troubled, too, by his prodigal namesake, Jack (John Ames) Boughton, his best friend’s lost son who returns to Gilead searching for forgiveness and redemption',\n",
       " ' Told in John Ames’s joyous, rambling voice that finds beauty, humour and truth in the smallest of life’s details, Gilead is a song of celebration and acceptance of the best and the worst the world has to offer',\n",
       " ' At its heart is a tale of the sacred bonds between fathers and sons, pitch-perfect in style and story, set to dazzle critics and readers alike',\n",
       " '']"
      ]
     },
     "execution_count": 17,
     "metadata": {},
     "output_type": "execute_result"
    }
   ],
   "source": [
    "books.description[0].split('.')"
   ]
  },
  {
   "cell_type": "code",
   "execution_count": 18,
   "id": "6f58c09c-977c-49a7-9220-5246e2aeb0ec",
   "metadata": {},
   "outputs": [],
   "source": [
    "sentence = books['description'][0].split('.')\n",
    "prediction = classifier(sentence)"
   ]
  },
  {
   "cell_type": "code",
   "execution_count": 19,
   "id": "864e2c54-426e-4440-b1f5-9bbadcbc013c",
   "metadata": {},
   "outputs": [
    {
     "data": {
      "text/plain": [
       "[{'label': 'surprise', 'score': 0.7296021580696106},\n",
       " {'label': 'neutral', 'score': 0.14038598537445068},\n",
       " {'label': 'fear', 'score': 0.06816227734088898},\n",
       " {'label': 'joy', 'score': 0.04794260486960411},\n",
       " {'label': 'anger', 'score': 0.009156367741525173},\n",
       " {'label': 'disgust', 'score': 0.0026284768246114254},\n",
       " {'label': 'sadness', 'score': 0.002122163772583008}]"
      ]
     },
     "execution_count": 19,
     "metadata": {},
     "output_type": "execute_result"
    }
   ],
   "source": [
    "prediction[0]"
   ]
  },
  {
   "cell_type": "code",
   "execution_count": 20,
   "id": "0792b327-c481-4db1-b0a6-572bb80b4a5d",
   "metadata": {},
   "outputs": [
    {
     "data": {
      "text/plain": [
       "' Haunted by his grandfather’s presence, John tells of the rift between his grandfather and his father: the elder, an angry visionary who fought for the abolitionist cause, and his son, an ardent pacifist'"
      ]
     },
     "execution_count": 20,
     "metadata": {},
     "output_type": "execute_result"
    }
   ],
   "source": [
    "sentence[3]"
   ]
  },
  {
   "cell_type": "code",
   "execution_count": 21,
   "id": "1d0cfb8c-1821-4153-8ed2-47545afe47ec",
   "metadata": {},
   "outputs": [
    {
     "data": {
      "text/plain": [
       "[{'label': 'fear', 'score': 0.9281682968139648},\n",
       " {'label': 'anger', 'score': 0.03219081461429596},\n",
       " {'label': 'neutral', 'score': 0.012808660045266151},\n",
       " {'label': 'sadness', 'score': 0.008756875991821289},\n",
       " {'label': 'surprise', 'score': 0.008597892709076405},\n",
       " {'label': 'disgust', 'score': 0.008431807160377502},\n",
       " {'label': 'joy', 'score': 0.0010455832816660404}]"
      ]
     },
     "execution_count": 21,
     "metadata": {},
     "output_type": "execute_result"
    }
   ],
   "source": [
    "prediction[3]"
   ]
  },
  {
   "cell_type": "code",
   "execution_count": 25,
   "id": "2aef8848-8eb0-4f42-9abd-09edfb0eccec",
   "metadata": {},
   "outputs": [
    {
     "data": {
      "text/plain": [
       "[{'label': 'anger', 'score': 0.009156367741525173},\n",
       " {'label': 'disgust', 'score': 0.0026284768246114254},\n",
       " {'label': 'fear', 'score': 0.06816227734088898},\n",
       " {'label': 'joy', 'score': 0.04794260486960411},\n",
       " {'label': 'neutral', 'score': 0.14038598537445068},\n",
       " {'label': 'sadness', 'score': 0.002122163772583008},\n",
       " {'label': 'surprise', 'score': 0.7296021580696106}]"
      ]
     },
     "execution_count": 25,
     "metadata": {},
     "output_type": "execute_result"
    }
   ],
   "source": [
    "sorted(prediction[0], key=lambda x:x['label'])\n"
   ]
  },
  {
   "cell_type": "code",
   "execution_count": 35,
   "id": "c273ccda-4e3c-461f-8ea4-33a5f85d3ef6",
   "metadata": {},
   "outputs": [],
   "source": [
    "import numpy as np\n",
    "\n",
    "emotion_labels = ['anger', 'disgust', 'fear', 'joy', 'neutral', 'sadness','surprise']\n",
    "isbn = []\n",
    "emotion_scores = {label:[] for label in emotion_labels}\n",
    "\n",
    "def calculate_max_emotions_score(predictions):\n",
    "    per_emotion_scores = {label:[] for label in emotion_labels}\n",
    "    for prediction in predictions:\n",
    "        sorted_prediction = sorted(prediction, key=lambda x:x['label'])\n",
    "        for index, label in enumerate(emotion_labels):\n",
    "            per_emotion_scores[label].append(sorted_prediction[index]['score'])\n",
    "    return {label:np.max(scores) for label, scores in per_emotion_scores.items()}"
   ]
  },
  {
   "cell_type": "code",
   "execution_count": 38,
   "id": "17194ee9-6628-4e04-845d-2bb86b654e65",
   "metadata": {
    "scrolled": true
   },
   "outputs": [
    {
     "data": {
      "text/plain": [
       "{'anger': [np.float64(0.06413363665342331),\n",
       "  np.float64(0.6126194596290588),\n",
       "  np.float64(0.06413363665342331),\n",
       "  np.float64(0.35148516297340393),\n",
       "  np.float64(0.0814124271273613),\n",
       "  np.float64(0.23222433030605316),\n",
       "  np.float64(0.5381842255592346),\n",
       "  np.float64(0.06413363665342331),\n",
       "  np.float64(0.3006698489189148),\n",
       "  np.float64(0.06413363665342331),\n",
       "  np.float64(0.06413363665342331),\n",
       "  np.float64(0.6126194596290588),\n",
       "  np.float64(0.06413363665342331),\n",
       "  np.float64(0.35148516297340393),\n",
       "  np.float64(0.0814124271273613),\n",
       "  np.float64(0.23222433030605316),\n",
       "  np.float64(0.5381842255592346),\n",
       "  np.float64(0.06413363665342331),\n",
       "  np.float64(0.3006698489189148),\n",
       "  np.float64(0.06413363665342331)],\n",
       " 'disgust': [np.float64(0.27359113097190857),\n",
       "  np.float64(0.3482842445373535),\n",
       "  np.float64(0.10400673747062683),\n",
       "  np.float64(0.1507222205400467),\n",
       "  np.float64(0.18449550867080688),\n",
       "  np.float64(0.7271752953529358),\n",
       "  np.float64(0.15585486590862274),\n",
       "  np.float64(0.10400673747062683),\n",
       "  np.float64(0.27948102355003357),\n",
       "  np.float64(0.17792704701423645),\n",
       "  np.float64(0.27359113097190857),\n",
       "  np.float64(0.3482842445373535),\n",
       "  np.float64(0.10400673747062683),\n",
       "  np.float64(0.1507222205400467),\n",
       "  np.float64(0.18449550867080688),\n",
       "  np.float64(0.7271752953529358),\n",
       "  np.float64(0.15585486590862274),\n",
       "  np.float64(0.10400673747062683),\n",
       "  np.float64(0.27948102355003357),\n",
       "  np.float64(0.17792704701423645)],\n",
       " 'fear': [np.float64(0.9281682968139648),\n",
       "  np.float64(0.942527711391449),\n",
       "  np.float64(0.9723207950592041),\n",
       "  np.float64(0.36070549488067627),\n",
       "  np.float64(0.09504342079162598),\n",
       "  np.float64(0.051362838596105576),\n",
       "  np.float64(0.7474275231361389),\n",
       "  np.float64(0.4044971764087677),\n",
       "  np.float64(0.9155240654945374),\n",
       "  np.float64(0.051362838596105576),\n",
       "  np.float64(0.9281682968139648),\n",
       "  np.float64(0.942527711391449),\n",
       "  np.float64(0.9723207950592041),\n",
       "  np.float64(0.36070549488067627),\n",
       "  np.float64(0.09504342079162598),\n",
       "  np.float64(0.051362838596105576),\n",
       "  np.float64(0.7474275231361389),\n",
       "  np.float64(0.4044971764087677),\n",
       "  np.float64(0.9155240654945374),\n",
       "  np.float64(0.051362838596105576)],\n",
       " 'joy': [np.float64(0.9327981472015381),\n",
       "  np.float64(0.7044221758842468),\n",
       "  np.float64(0.7672385573387146),\n",
       "  np.float64(0.25188156962394714),\n",
       "  np.float64(0.04056441783905029),\n",
       "  np.float64(0.04337583854794502),\n",
       "  np.float64(0.872565746307373),\n",
       "  np.float64(0.04056441783905029),\n",
       "  np.float64(0.04056441783905029),\n",
       "  np.float64(0.04056441783905029),\n",
       "  np.float64(0.9327981472015381),\n",
       "  np.float64(0.7044221758842468),\n",
       "  np.float64(0.7672385573387146),\n",
       "  np.float64(0.25188156962394714),\n",
       "  np.float64(0.04056441783905029),\n",
       "  np.float64(0.04337583854794502),\n",
       "  np.float64(0.872565746307373),\n",
       "  np.float64(0.04056441783905029),\n",
       "  np.float64(0.04056441783905029),\n",
       "  np.float64(0.04056441783905029)],\n",
       " 'neutral': [np.float64(0.6462159156799316),\n",
       "  np.float64(0.8879395127296448),\n",
       "  np.float64(0.549476683139801),\n",
       "  np.float64(0.7326849102973938),\n",
       "  np.float64(0.8843895196914673),\n",
       "  np.float64(0.6213918328285217),\n",
       "  np.float64(0.7121940851211548),\n",
       "  np.float64(0.549476683139801),\n",
       "  np.float64(0.8402892351150513),\n",
       "  np.float64(0.8603723645210266),\n",
       "  np.float64(0.6462159156799316),\n",
       "  np.float64(0.8879395127296448),\n",
       "  np.float64(0.549476683139801),\n",
       "  np.float64(0.7326849102973938),\n",
       "  np.float64(0.8843895196914673),\n",
       "  np.float64(0.6213918328285217),\n",
       "  np.float64(0.7121940851211548),\n",
       "  np.float64(0.549476683139801),\n",
       "  np.float64(0.8402892351150513),\n",
       "  np.float64(0.8603723645210266)],\n",
       " 'sadness': [np.float64(0.9671575427055359),\n",
       "  np.float64(0.11169019341468811),\n",
       "  np.float64(0.11169019341468811),\n",
       "  np.float64(0.11169019341468811),\n",
       "  np.float64(0.4758801758289337),\n",
       "  np.float64(0.11169019341468811),\n",
       "  np.float64(0.40800151228904724),\n",
       "  np.float64(0.8202826380729675),\n",
       "  np.float64(0.35446202754974365),\n",
       "  np.float64(0.11169019341468811),\n",
       "  np.float64(0.9671575427055359),\n",
       "  np.float64(0.11169019341468811),\n",
       "  np.float64(0.11169019341468811),\n",
       "  np.float64(0.11169019341468811),\n",
       "  np.float64(0.4758801758289337),\n",
       "  np.float64(0.11169019341468811),\n",
       "  np.float64(0.40800151228904724),\n",
       "  np.float64(0.8202826380729675),\n",
       "  np.float64(0.35446202754974365),\n",
       "  np.float64(0.11169019341468811)],\n",
       " 'surprise': [np.float64(0.7296021580696106),\n",
       "  np.float64(0.25254595279693604),\n",
       "  np.float64(0.07876546680927277),\n",
       "  np.float64(0.07876546680927277),\n",
       "  np.float64(0.07876546680927277),\n",
       "  np.float64(0.27190354466438293),\n",
       "  np.float64(0.07876546680927277),\n",
       "  np.float64(0.23448696732521057),\n",
       "  np.float64(0.1356135606765747),\n",
       "  np.float64(0.07876546680927277),\n",
       "  np.float64(0.7296021580696106),\n",
       "  np.float64(0.25254595279693604),\n",
       "  np.float64(0.07876546680927277),\n",
       "  np.float64(0.07876546680927277),\n",
       "  np.float64(0.07876546680927277),\n",
       "  np.float64(0.27190354466438293),\n",
       "  np.float64(0.07876546680927277),\n",
       "  np.float64(0.23448696732521057),\n",
       "  np.float64(0.1356135606765747),\n",
       "  np.float64(0.07876546680927277)]}"
      ]
     },
     "execution_count": 38,
     "metadata": {},
     "output_type": "execute_result"
    }
   ],
   "source": [
    "for i in range(10):\n",
    "    isbn.append(books['isbn13'][i])\n",
    "    sentence = books['description'][i].split('.')\n",
    "    predictions = classifier(sentence)\n",
    "    max_score = calculate_max_emotions_score(predictions)\n",
    "    for label in emotion_labels:\n",
    "            emotion_scores[label].append(max_score[label])\n",
    "emotion_scores"
   ]
  },
  {
   "cell_type": "code",
   "execution_count": 39,
   "id": "bb969259-6f0d-4de1-b036-03bad20e58fa",
   "metadata": {},
   "outputs": [
    {
     "name": "stderr",
     "output_type": "stream",
     "text": [
      "100%|██████████████████████████████████████████████████████████████████████████████████████████████████████████████████████████████████████████| 5197/5197 [16:23<00:00,  5.28it/s]\n"
     ]
    }
   ],
   "source": [
    "# from tqdm import tqdm\n",
    "\n",
    "\n",
    "\n",
    "# for i in tqdm(range(len(books))):\n",
    "#     isbn.append(books['isbn13'][i])\n",
    "#     sentence = books['description'][i].split('.')\n",
    "#     predictions = classifier(sentence)\n",
    "#     max_score = calculate_max_emotions_score(predictions)\n",
    "#     for label in emotion_labels:\n",
    "#             emotion_scores[label].append(max_score[label])"
   ]
  },
  {
   "cell_type": "code",
   "execution_count": 42,
   "id": "d652fdbf-3d7a-4423-b299-a6bd692e4bf3",
   "metadata": {},
   "outputs": [],
   "source": [
    "# emotion_df = pd.DataFrame(emotion_scores)\n",
    "# emotion_df['isbn13'] = isbn"
   ]
  },
  {
   "cell_type": "code",
   "execution_count": 41,
   "id": "eb143253-19f5-405d-9d13-115324e7429e",
   "metadata": {},
   "outputs": [
    {
     "name": "stdout",
     "output_type": "stream",
     "text": [
      "7\n",
      "5218\n"
     ]
    }
   ],
   "source": []
  },
  {
   "cell_type": "code",
   "execution_count": 43,
   "id": "7dd08dfa-e9af-4134-8028-428d2de1a8ce",
   "metadata": {},
   "outputs": [
    {
     "name": "stderr",
     "output_type": "stream",
     "text": [
      "100%|██████████████████████████████████████████████████████████████████████████████████████████████████████████████████████████████████████████| 5197/5197 [19:09<00:00,  4.52it/s]\n"
     ]
    }
   ],
   "source": [
    "emotion_labels = ['anger', 'disgust', 'fear', 'joy', 'neutral', 'sadness', 'surprise']\n",
    "emotion_rows = []\n",
    "\n",
    "for i in tqdm(range(len(books))):\n",
    "    try:\n",
    "        isbn_val = books['isbn13'].iloc[i]\n",
    "        description = str(books['description'].iloc[i])  # avoid NaN issues\n",
    "        sentence = description.split('.')\n",
    "\n",
    "        predictions = classifier(sentence)\n",
    "        max_score = calculate_max_emotions_score(predictions)\n",
    "\n",
    "        # build one row per book\n",
    "        row = {label: max_score.get(label, 0.0) for label in emotion_labels}\n",
    "        row['isbn13'] = isbn_val\n",
    "        emotion_rows.append(row)\n",
    "\n",
    "    except Exception as e:\n",
    "        print(f\"Skipping row {i} due to error: {e}\")\n",
    "\n",
    "# Build DataFrame\n",
    "emotion_df = pd.DataFrame(emotion_rows)\n"
   ]
  },
  {
   "cell_type": "code",
   "execution_count": 44,
   "id": "230d51b6-58dc-46dc-91f3-58b49071cc7c",
   "metadata": {},
   "outputs": [
    {
     "name": "stdout",
     "output_type": "stream",
     "text": [
      "7\n",
      "5218\n"
     ]
    }
   ],
   "source": [
    "print(len(emotion_scores))\n",
    "print(len(isbn))"
   ]
  },
  {
   "cell_type": "code",
   "execution_count": 45,
   "id": "8c05c97e-73c7-4dd2-b259-a8a21ea05688",
   "metadata": {},
   "outputs": [
    {
     "data": {
      "text/html": [
       "<div>\n",
       "<style scoped>\n",
       "    .dataframe tbody tr th:only-of-type {\n",
       "        vertical-align: middle;\n",
       "    }\n",
       "\n",
       "    .dataframe tbody tr th {\n",
       "        vertical-align: top;\n",
       "    }\n",
       "\n",
       "    .dataframe thead th {\n",
       "        text-align: right;\n",
       "    }\n",
       "</style>\n",
       "<table border=\"1\" class=\"dataframe\">\n",
       "  <thead>\n",
       "    <tr style=\"text-align: right;\">\n",
       "      <th></th>\n",
       "      <th>anger</th>\n",
       "      <th>disgust</th>\n",
       "      <th>fear</th>\n",
       "      <th>joy</th>\n",
       "      <th>neutral</th>\n",
       "      <th>sadness</th>\n",
       "      <th>surprise</th>\n",
       "      <th>isbn13</th>\n",
       "    </tr>\n",
       "  </thead>\n",
       "  <tbody>\n",
       "    <tr>\n",
       "      <th>0</th>\n",
       "      <td>0.064134</td>\n",
       "      <td>0.273591</td>\n",
       "      <td>0.928168</td>\n",
       "      <td>0.932798</td>\n",
       "      <td>0.646216</td>\n",
       "      <td>0.967158</td>\n",
       "      <td>0.729602</td>\n",
       "      <td>9780002005883</td>\n",
       "    </tr>\n",
       "    <tr>\n",
       "      <th>1</th>\n",
       "      <td>0.612619</td>\n",
       "      <td>0.348284</td>\n",
       "      <td>0.942528</td>\n",
       "      <td>0.704422</td>\n",
       "      <td>0.887940</td>\n",
       "      <td>0.111690</td>\n",
       "      <td>0.252546</td>\n",
       "      <td>9780002261982</td>\n",
       "    </tr>\n",
       "    <tr>\n",
       "      <th>2</th>\n",
       "      <td>0.064134</td>\n",
       "      <td>0.104007</td>\n",
       "      <td>0.972321</td>\n",
       "      <td>0.767239</td>\n",
       "      <td>0.549477</td>\n",
       "      <td>0.111690</td>\n",
       "      <td>0.078765</td>\n",
       "      <td>9780006178736</td>\n",
       "    </tr>\n",
       "    <tr>\n",
       "      <th>3</th>\n",
       "      <td>0.351485</td>\n",
       "      <td>0.150722</td>\n",
       "      <td>0.360705</td>\n",
       "      <td>0.251882</td>\n",
       "      <td>0.732685</td>\n",
       "      <td>0.111690</td>\n",
       "      <td>0.078765</td>\n",
       "      <td>9780006280897</td>\n",
       "    </tr>\n",
       "    <tr>\n",
       "      <th>4</th>\n",
       "      <td>0.081412</td>\n",
       "      <td>0.184496</td>\n",
       "      <td>0.095043</td>\n",
       "      <td>0.040564</td>\n",
       "      <td>0.884390</td>\n",
       "      <td>0.475880</td>\n",
       "      <td>0.078765</td>\n",
       "      <td>9780006280934</td>\n",
       "    </tr>\n",
       "    <tr>\n",
       "      <th>...</th>\n",
       "      <td>...</td>\n",
       "      <td>...</td>\n",
       "      <td>...</td>\n",
       "      <td>...</td>\n",
       "      <td>...</td>\n",
       "      <td>...</td>\n",
       "      <td>...</td>\n",
       "      <td>...</td>\n",
       "    </tr>\n",
       "    <tr>\n",
       "      <th>5192</th>\n",
       "      <td>0.148209</td>\n",
       "      <td>0.030643</td>\n",
       "      <td>0.919165</td>\n",
       "      <td>0.255171</td>\n",
       "      <td>0.853721</td>\n",
       "      <td>0.980877</td>\n",
       "      <td>0.030656</td>\n",
       "      <td>9788172235222</td>\n",
       "    </tr>\n",
       "    <tr>\n",
       "      <th>5193</th>\n",
       "      <td>0.064134</td>\n",
       "      <td>0.114383</td>\n",
       "      <td>0.051363</td>\n",
       "      <td>0.400263</td>\n",
       "      <td>0.883198</td>\n",
       "      <td>0.111690</td>\n",
       "      <td>0.227765</td>\n",
       "      <td>9788173031014</td>\n",
       "    </tr>\n",
       "    <tr>\n",
       "      <th>5194</th>\n",
       "      <td>0.009997</td>\n",
       "      <td>0.009929</td>\n",
       "      <td>0.339218</td>\n",
       "      <td>0.947779</td>\n",
       "      <td>0.375754</td>\n",
       "      <td>0.066685</td>\n",
       "      <td>0.057625</td>\n",
       "      <td>9788179921623</td>\n",
       "    </tr>\n",
       "    <tr>\n",
       "      <th>5195</th>\n",
       "      <td>0.064134</td>\n",
       "      <td>0.104007</td>\n",
       "      <td>0.459270</td>\n",
       "      <td>0.759457</td>\n",
       "      <td>0.951104</td>\n",
       "      <td>0.368111</td>\n",
       "      <td>0.078765</td>\n",
       "      <td>9788185300535</td>\n",
       "    </tr>\n",
       "    <tr>\n",
       "      <th>5196</th>\n",
       "      <td>0.064134</td>\n",
       "      <td>0.104007</td>\n",
       "      <td>0.051363</td>\n",
       "      <td>0.958549</td>\n",
       "      <td>0.915193</td>\n",
       "      <td>0.111690</td>\n",
       "      <td>0.078765</td>\n",
       "      <td>9789027712059</td>\n",
       "    </tr>\n",
       "  </tbody>\n",
       "</table>\n",
       "<p>5197 rows × 8 columns</p>\n",
       "</div>"
      ],
      "text/plain": [
       "         anger   disgust      fear       joy   neutral   sadness  surprise  \\\n",
       "0     0.064134  0.273591  0.928168  0.932798  0.646216  0.967158  0.729602   \n",
       "1     0.612619  0.348284  0.942528  0.704422  0.887940  0.111690  0.252546   \n",
       "2     0.064134  0.104007  0.972321  0.767239  0.549477  0.111690  0.078765   \n",
       "3     0.351485  0.150722  0.360705  0.251882  0.732685  0.111690  0.078765   \n",
       "4     0.081412  0.184496  0.095043  0.040564  0.884390  0.475880  0.078765   \n",
       "...        ...       ...       ...       ...       ...       ...       ...   \n",
       "5192  0.148209  0.030643  0.919165  0.255171  0.853721  0.980877  0.030656   \n",
       "5193  0.064134  0.114383  0.051363  0.400263  0.883198  0.111690  0.227765   \n",
       "5194  0.009997  0.009929  0.339218  0.947779  0.375754  0.066685  0.057625   \n",
       "5195  0.064134  0.104007  0.459270  0.759457  0.951104  0.368111  0.078765   \n",
       "5196  0.064134  0.104007  0.051363  0.958549  0.915193  0.111690  0.078765   \n",
       "\n",
       "             isbn13  \n",
       "0     9780002005883  \n",
       "1     9780002261982  \n",
       "2     9780006178736  \n",
       "3     9780006280897  \n",
       "4     9780006280934  \n",
       "...             ...  \n",
       "5192  9788172235222  \n",
       "5193  9788173031014  \n",
       "5194  9788179921623  \n",
       "5195  9788185300535  \n",
       "5196  9789027712059  \n",
       "\n",
       "[5197 rows x 8 columns]"
      ]
     },
     "execution_count": 45,
     "metadata": {},
     "output_type": "execute_result"
    }
   ],
   "source": [
    "emotion_df"
   ]
  },
  {
   "cell_type": "code",
   "execution_count": 47,
   "id": "93dee66c-554e-450f-a8da-5c0981a3ebe9",
   "metadata": {},
   "outputs": [
    {
     "data": {
      "text/html": [
       "<div>\n",
       "<style scoped>\n",
       "    .dataframe tbody tr th:only-of-type {\n",
       "        vertical-align: middle;\n",
       "    }\n",
       "\n",
       "    .dataframe tbody tr th {\n",
       "        vertical-align: top;\n",
       "    }\n",
       "\n",
       "    .dataframe thead th {\n",
       "        text-align: right;\n",
       "    }\n",
       "</style>\n",
       "<table border=\"1\" class=\"dataframe\">\n",
       "  <thead>\n",
       "    <tr style=\"text-align: right;\">\n",
       "      <th></th>\n",
       "      <th>isbn13</th>\n",
       "      <th>isbn10</th>\n",
       "      <th>title</th>\n",
       "      <th>authors</th>\n",
       "      <th>categories</th>\n",
       "      <th>thumbnail</th>\n",
       "      <th>description</th>\n",
       "      <th>published_year</th>\n",
       "      <th>average_rating</th>\n",
       "      <th>num_pages</th>\n",
       "      <th>...</th>\n",
       "      <th>neutral_x</th>\n",
       "      <th>sadness_x</th>\n",
       "      <th>surprise_x</th>\n",
       "      <th>anger_y</th>\n",
       "      <th>disgust_y</th>\n",
       "      <th>fear_y</th>\n",
       "      <th>joy_y</th>\n",
       "      <th>neutral_y</th>\n",
       "      <th>sadness_y</th>\n",
       "      <th>surprise_y</th>\n",
       "    </tr>\n",
       "  </thead>\n",
       "  <tbody>\n",
       "    <tr>\n",
       "      <th>0</th>\n",
       "      <td>9780002005883</td>\n",
       "      <td>0002005883</td>\n",
       "      <td>Gilead</td>\n",
       "      <td>Marilynne Robinson</td>\n",
       "      <td>Fiction</td>\n",
       "      <td>http://books.google.com/books/content?id=KQZCP...</td>\n",
       "      <td>A NOVEL THAT READERS and critics have been eag...</td>\n",
       "      <td>2004.0</td>\n",
       "      <td>3.85</td>\n",
       "      <td>247.0</td>\n",
       "      <td>...</td>\n",
       "      <td>0.646216</td>\n",
       "      <td>0.967158</td>\n",
       "      <td>0.729602</td>\n",
       "      <td>0.064134</td>\n",
       "      <td>0.273591</td>\n",
       "      <td>0.928168</td>\n",
       "      <td>0.932798</td>\n",
       "      <td>0.646216</td>\n",
       "      <td>0.967158</td>\n",
       "      <td>0.729602</td>\n",
       "    </tr>\n",
       "    <tr>\n",
       "      <th>1</th>\n",
       "      <td>9780002261982</td>\n",
       "      <td>0002261987</td>\n",
       "      <td>Spider's Web</td>\n",
       "      <td>Charles Osborne;Agatha Christie</td>\n",
       "      <td>Detective and mystery stories</td>\n",
       "      <td>http://books.google.com/books/content?id=gA5GP...</td>\n",
       "      <td>A new 'Christie for Christmas' -- a full-lengt...</td>\n",
       "      <td>2000.0</td>\n",
       "      <td>3.83</td>\n",
       "      <td>241.0</td>\n",
       "      <td>...</td>\n",
       "      <td>0.887940</td>\n",
       "      <td>0.111690</td>\n",
       "      <td>0.252546</td>\n",
       "      <td>0.612619</td>\n",
       "      <td>0.348284</td>\n",
       "      <td>0.942528</td>\n",
       "      <td>0.704422</td>\n",
       "      <td>0.887940</td>\n",
       "      <td>0.111690</td>\n",
       "      <td>0.252546</td>\n",
       "    </tr>\n",
       "  </tbody>\n",
       "</table>\n",
       "<p>2 rows × 28 columns</p>\n",
       "</div>"
      ],
      "text/plain": [
       "          isbn13      isbn10         title                          authors  \\\n",
       "0  9780002005883  0002005883        Gilead               Marilynne Robinson   \n",
       "1  9780002261982  0002261987  Spider's Web  Charles Osborne;Agatha Christie   \n",
       "\n",
       "                      categories  \\\n",
       "0                        Fiction   \n",
       "1  Detective and mystery stories   \n",
       "\n",
       "                                           thumbnail  \\\n",
       "0  http://books.google.com/books/content?id=KQZCP...   \n",
       "1  http://books.google.com/books/content?id=gA5GP...   \n",
       "\n",
       "                                         description  published_year  \\\n",
       "0  A NOVEL THAT READERS and critics have been eag...          2004.0   \n",
       "1  A new 'Christie for Christmas' -- a full-lengt...          2000.0   \n",
       "\n",
       "   average_rating  num_pages  ...  neutral_x sadness_x surprise_x   anger_y  \\\n",
       "0            3.85      247.0  ...   0.646216  0.967158   0.729602  0.064134   \n",
       "1            3.83      241.0  ...   0.887940  0.111690   0.252546  0.612619   \n",
       "\n",
       "   disgust_y    fear_y     joy_y  neutral_y  sadness_y  surprise_y  \n",
       "0   0.273591  0.928168  0.932798   0.646216   0.967158    0.729602  \n",
       "1   0.348284  0.942528  0.704422   0.887940   0.111690    0.252546  \n",
       "\n",
       "[2 rows x 28 columns]"
      ]
     },
     "execution_count": 47,
     "metadata": {},
     "output_type": "execute_result"
    }
   ],
   "source": [
    "books = pd.merge(books,emotion_df,on='isbn13')\n",
    "books.head(2)"
   ]
  },
  {
   "cell_type": "code",
   "execution_count": 51,
   "id": "ef3a1955-06be-47fa-a1de-75666d025ba8",
   "metadata": {},
   "outputs": [],
   "source": [
    "books = books.drop(columns=['anger_y','disgust_y','fear_y','joy_y',\n",
    "                            'neutral_y','sadness_y','surprise_y'])\n",
    "books = books.rename(columns={\n",
    "    'anger_x':'anger','disgust_x':'disgust','fear_x':'fear',\n",
    "    'joy_x':'joy','neutral_x':'neutral','sadness_x':'sadness','surprise_x':'surprise'\n",
    "})\n"
   ]
  },
  {
   "cell_type": "code",
   "execution_count": 52,
   "id": "e9b8f243-188a-45ce-9744-6f2985c871ca",
   "metadata": {},
   "outputs": [],
   "source": [
    "books.to_csv('books_with_emotions.csv', index=False)"
   ]
  },
  {
   "cell_type": "code",
   "execution_count": 53,
   "id": "42012e3c-c4aa-40bd-a4ee-30ce5dc92b75",
   "metadata": {},
   "outputs": [
    {
     "data": {
      "text/plain": [
       "Index(['isbn13', 'isbn10', 'title', 'authors', 'categories', 'thumbnail',\n",
       "       'description', 'published_year', 'average_rating', 'num_pages',\n",
       "       'ratings_count', 'title_subtitle', 'tagged_description',\n",
       "       'simple_categories', 'anger', 'disgust', 'fear', 'joy', 'neutral',\n",
       "       'sadness', 'surprise'],\n",
       "      dtype='object')"
      ]
     },
     "execution_count": 53,
     "metadata": {},
     "output_type": "execute_result"
    }
   ],
   "source": [
    "books.columns"
   ]
  },
  {
   "cell_type": "code",
   "execution_count": 56,
   "id": "005f4a0a-01b3-41e2-856b-cc709db2f9c1",
   "metadata": {},
   "outputs": [
    {
     "name": "stdout",
     "output_type": "stream",
     "text": [
      "OPENAI_API_KEY: os.getenv(\"OPENAI_API_KEY\")\n"
     ]
    }
   ],
   "source": [
    "import os\n",
    "print(\"OPENAI_API_KEY:\", os.getenv(\"OPENAI_API_KEY\"))\n"
   ]
  },
  {
   "cell_type": "code",
   "execution_count": null,
   "id": "34398682-449b-45e2-b7e3-d39aca1da69b",
   "metadata": {},
   "outputs": [],
   "source": []
  }
 ],
 "metadata": {
  "kernelspec": {
   "display_name": "Python 3 (ipykernel)",
   "language": "python",
   "name": "python3"
  },
  "language_info": {
   "codemirror_mode": {
    "name": "ipython",
    "version": 3
   },
   "file_extension": ".py",
   "mimetype": "text/x-python",
   "name": "python",
   "nbconvert_exporter": "python",
   "pygments_lexer": "ipython3",
   "version": "3.10.0"
  }
 },
 "nbformat": 4,
 "nbformat_minor": 5
}
